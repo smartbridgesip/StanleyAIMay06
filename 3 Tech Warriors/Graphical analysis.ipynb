{
 "cells": [
  {
   "cell_type": "code",
   "execution_count": 1,
   "metadata": {
    "colab": {},
    "colab_type": "code",
    "id": "ZmYB28jfIOae"
   },
   "outputs": [],
   "source": [
    "import pandas as pd"
   ]
  },
  {
   "cell_type": "code",
   "execution_count": 2,
   "metadata": {
    "colab": {},
    "colab_type": "code",
    "id": "L52CyxP2KPdW"
   },
   "outputs": [],
   "source": [
    "df = pd.read_csv(\"C:\\\\Users\\\\lenovo\\\\Desktop\\\\smart bridge\\\\drug review processed.csv\")"
   ]
  },
  {
   "cell_type": "code",
   "execution_count": 3,
   "metadata": {
    "colab": {
     "base_uri": "https://localhost:8080/",
     "height": 252
    },
    "colab_type": "code",
    "id": "AQhc3U_AKX7-",
    "outputId": "6f680ecd-3c6c-4a0c-b0a2-71c8e47989dc"
   },
   "outputs": [
    {
     "name": "stdout",
     "output_type": "stream",
     "text": [
      "<class 'pandas.core.frame.DataFrame'>\n",
      "RangeIndex: 215063 entries, 0 to 215062\n",
      "Data columns (total 10 columns):\n",
      "Unnamed: 0              215063 non-null int64\n",
      "Id                      215063 non-null int64\n",
      "review                  215063 non-null object\n",
      "cleanReview             215063 non-null object\n",
      "rating                  215063 non-null float64\n",
      "ratingSentiment         215063 non-null int64\n",
      "ratingSentimentLabel    215063 non-null object\n",
      "vaderReviewScore        215063 non-null float64\n",
      "vaderSentiment          215063 non-null int64\n",
      "vaderSentimentLabel     215063 non-null object\n",
      "dtypes: float64(2), int64(4), object(4)\n",
      "memory usage: 16.4+ MB\n"
     ]
    }
   ],
   "source": [
    "df.info()"
   ]
  },
  {
   "cell_type": "code",
   "execution_count": 4,
   "metadata": {
    "colab": {
     "base_uri": "https://localhost:8080/",
     "height": 229
    },
    "colab_type": "code",
    "id": "2q5MCMrIKbjK",
    "outputId": "13acc008-6baf-4962-c83c-b0a9c283d624"
   },
   "outputs": [
    {
     "data": {
      "text/html": [
       "<div>\n",
       "<style scoped>\n",
       "    .dataframe tbody tr th:only-of-type {\n",
       "        vertical-align: middle;\n",
       "    }\n",
       "\n",
       "    .dataframe tbody tr th {\n",
       "        vertical-align: top;\n",
       "    }\n",
       "\n",
       "    .dataframe thead th {\n",
       "        text-align: right;\n",
       "    }\n",
       "</style>\n",
       "<table border=\"1\" class=\"dataframe\">\n",
       "  <thead>\n",
       "    <tr style=\"text-align: right;\">\n",
       "      <th></th>\n",
       "      <th>Unnamed: 0</th>\n",
       "      <th>Id</th>\n",
       "      <th>review</th>\n",
       "      <th>cleanReview</th>\n",
       "      <th>rating</th>\n",
       "      <th>ratingSentiment</th>\n",
       "      <th>ratingSentimentLabel</th>\n",
       "      <th>vaderReviewScore</th>\n",
       "      <th>vaderSentiment</th>\n",
       "      <th>vaderSentimentLabel</th>\n",
       "    </tr>\n",
       "  </thead>\n",
       "  <tbody>\n",
       "    <tr>\n",
       "      <th>0</th>\n",
       "      <td>0</td>\n",
       "      <td>163740</td>\n",
       "      <td>\"I&amp;#039;ve tried a few antidepressants over th...</td>\n",
       "      <td>\"I&amp;#039;ve tried antidepressants years (citalo...</td>\n",
       "      <td>10.0</td>\n",
       "      <td>2</td>\n",
       "      <td>positive</td>\n",
       "      <td>0.7623</td>\n",
       "      <td>2</td>\n",
       "      <td>positive</td>\n",
       "    </tr>\n",
       "    <tr>\n",
       "      <th>1</th>\n",
       "      <td>1</td>\n",
       "      <td>206473</td>\n",
       "      <td>\"My son has Crohn&amp;#039;s disease and has done ...</td>\n",
       "      <td>\"My son Crohn&amp;#039;s disease done well Asacol....</td>\n",
       "      <td>8.0</td>\n",
       "      <td>2</td>\n",
       "      <td>positive</td>\n",
       "      <td>0.4767</td>\n",
       "      <td>2</td>\n",
       "      <td>positive</td>\n",
       "    </tr>\n",
       "    <tr>\n",
       "      <th>2</th>\n",
       "      <td>2</td>\n",
       "      <td>159672</td>\n",
       "      <td>\"Quick reduction of symptoms\"</td>\n",
       "      <td>\"Quick reduction symptoms\"</td>\n",
       "      <td>9.0</td>\n",
       "      <td>2</td>\n",
       "      <td>positive</td>\n",
       "      <td>0.0000</td>\n",
       "      <td>0</td>\n",
       "      <td>neutral</td>\n",
       "    </tr>\n",
       "    <tr>\n",
       "      <th>3</th>\n",
       "      <td>3</td>\n",
       "      <td>39293</td>\n",
       "      <td>\"Contrave combines drugs that were used for al...</td>\n",
       "      <td>\"Contrave combines drugs used alcohol, smoking...</td>\n",
       "      <td>9.0</td>\n",
       "      <td>2</td>\n",
       "      <td>positive</td>\n",
       "      <td>0.8115</td>\n",
       "      <td>2</td>\n",
       "      <td>positive</td>\n",
       "    </tr>\n",
       "    <tr>\n",
       "      <th>4</th>\n",
       "      <td>4</td>\n",
       "      <td>97768</td>\n",
       "      <td>\"I have been on this birth control for one cyc...</td>\n",
       "      <td>\"I birth control one cycle. After reading revi...</td>\n",
       "      <td>9.0</td>\n",
       "      <td>2</td>\n",
       "      <td>positive</td>\n",
       "      <td>0.9619</td>\n",
       "      <td>2</td>\n",
       "      <td>positive</td>\n",
       "    </tr>\n",
       "  </tbody>\n",
       "</table>\n",
       "</div>"
      ],
      "text/plain": [
       "   Unnamed: 0      Id                                             review  \\\n",
       "0           0  163740  \"I&#039;ve tried a few antidepressants over th...   \n",
       "1           1  206473  \"My son has Crohn&#039;s disease and has done ...   \n",
       "2           2  159672                      \"Quick reduction of symptoms\"   \n",
       "3           3   39293  \"Contrave combines drugs that were used for al...   \n",
       "4           4   97768  \"I have been on this birth control for one cyc...   \n",
       "\n",
       "                                         cleanReview  rating  ratingSentiment  \\\n",
       "0  \"I&#039;ve tried antidepressants years (citalo...    10.0                2   \n",
       "1  \"My son Crohn&#039;s disease done well Asacol....     8.0                2   \n",
       "2                         \"Quick reduction symptoms\"     9.0                2   \n",
       "3  \"Contrave combines drugs used alcohol, smoking...     9.0                2   \n",
       "4  \"I birth control one cycle. After reading revi...     9.0                2   \n",
       "\n",
       "  ratingSentimentLabel  vaderReviewScore  vaderSentiment vaderSentimentLabel  \n",
       "0             positive            0.7623               2            positive  \n",
       "1             positive            0.4767               2            positive  \n",
       "2             positive            0.0000               0             neutral  \n",
       "3             positive            0.8115               2            positive  \n",
       "4             positive            0.9619               2            positive  "
      ]
     },
     "execution_count": 4,
     "metadata": {},
     "output_type": "execute_result"
    }
   ],
   "source": [
    "df.head()"
   ]
  },
  {
   "cell_type": "code",
   "execution_count": 5,
   "metadata": {
    "colab": {},
    "colab_type": "code",
    "id": "9PpXKTgsOBLG"
   },
   "outputs": [],
   "source": [
    "df = df.drop(columns=df.columns[0])"
   ]
  },
  {
   "cell_type": "code",
   "execution_count": 6,
   "metadata": {
    "colab": {
     "base_uri": "https://localhost:8080/",
     "height": 229
    },
    "colab_type": "code",
    "id": "eserGJmXOEyi",
    "outputId": "d0db9f43-e995-41a0-b336-ba4ecc7afdf9"
   },
   "outputs": [
    {
     "data": {
      "text/html": [
       "<div>\n",
       "<style scoped>\n",
       "    .dataframe tbody tr th:only-of-type {\n",
       "        vertical-align: middle;\n",
       "    }\n",
       "\n",
       "    .dataframe tbody tr th {\n",
       "        vertical-align: top;\n",
       "    }\n",
       "\n",
       "    .dataframe thead th {\n",
       "        text-align: right;\n",
       "    }\n",
       "</style>\n",
       "<table border=\"1\" class=\"dataframe\">\n",
       "  <thead>\n",
       "    <tr style=\"text-align: right;\">\n",
       "      <th></th>\n",
       "      <th>Id</th>\n",
       "      <th>review</th>\n",
       "      <th>cleanReview</th>\n",
       "      <th>rating</th>\n",
       "      <th>ratingSentiment</th>\n",
       "      <th>ratingSentimentLabel</th>\n",
       "      <th>vaderReviewScore</th>\n",
       "      <th>vaderSentiment</th>\n",
       "      <th>vaderSentimentLabel</th>\n",
       "    </tr>\n",
       "  </thead>\n",
       "  <tbody>\n",
       "    <tr>\n",
       "      <th>0</th>\n",
       "      <td>163740</td>\n",
       "      <td>\"I&amp;#039;ve tried a few antidepressants over th...</td>\n",
       "      <td>\"I&amp;#039;ve tried antidepressants years (citalo...</td>\n",
       "      <td>10.0</td>\n",
       "      <td>2</td>\n",
       "      <td>positive</td>\n",
       "      <td>0.7623</td>\n",
       "      <td>2</td>\n",
       "      <td>positive</td>\n",
       "    </tr>\n",
       "    <tr>\n",
       "      <th>1</th>\n",
       "      <td>206473</td>\n",
       "      <td>\"My son has Crohn&amp;#039;s disease and has done ...</td>\n",
       "      <td>\"My son Crohn&amp;#039;s disease done well Asacol....</td>\n",
       "      <td>8.0</td>\n",
       "      <td>2</td>\n",
       "      <td>positive</td>\n",
       "      <td>0.4767</td>\n",
       "      <td>2</td>\n",
       "      <td>positive</td>\n",
       "    </tr>\n",
       "    <tr>\n",
       "      <th>2</th>\n",
       "      <td>159672</td>\n",
       "      <td>\"Quick reduction of symptoms\"</td>\n",
       "      <td>\"Quick reduction symptoms\"</td>\n",
       "      <td>9.0</td>\n",
       "      <td>2</td>\n",
       "      <td>positive</td>\n",
       "      <td>0.0000</td>\n",
       "      <td>0</td>\n",
       "      <td>neutral</td>\n",
       "    </tr>\n",
       "    <tr>\n",
       "      <th>3</th>\n",
       "      <td>39293</td>\n",
       "      <td>\"Contrave combines drugs that were used for al...</td>\n",
       "      <td>\"Contrave combines drugs used alcohol, smoking...</td>\n",
       "      <td>9.0</td>\n",
       "      <td>2</td>\n",
       "      <td>positive</td>\n",
       "      <td>0.8115</td>\n",
       "      <td>2</td>\n",
       "      <td>positive</td>\n",
       "    </tr>\n",
       "    <tr>\n",
       "      <th>4</th>\n",
       "      <td>97768</td>\n",
       "      <td>\"I have been on this birth control for one cyc...</td>\n",
       "      <td>\"I birth control one cycle. After reading revi...</td>\n",
       "      <td>9.0</td>\n",
       "      <td>2</td>\n",
       "      <td>positive</td>\n",
       "      <td>0.9619</td>\n",
       "      <td>2</td>\n",
       "      <td>positive</td>\n",
       "    </tr>\n",
       "  </tbody>\n",
       "</table>\n",
       "</div>"
      ],
      "text/plain": [
       "       Id                                             review  \\\n",
       "0  163740  \"I&#039;ve tried a few antidepressants over th...   \n",
       "1  206473  \"My son has Crohn&#039;s disease and has done ...   \n",
       "2  159672                      \"Quick reduction of symptoms\"   \n",
       "3   39293  \"Contrave combines drugs that were used for al...   \n",
       "4   97768  \"I have been on this birth control for one cyc...   \n",
       "\n",
       "                                         cleanReview  rating  ratingSentiment  \\\n",
       "0  \"I&#039;ve tried antidepressants years (citalo...    10.0                2   \n",
       "1  \"My son Crohn&#039;s disease done well Asacol....     8.0                2   \n",
       "2                         \"Quick reduction symptoms\"     9.0                2   \n",
       "3  \"Contrave combines drugs used alcohol, smoking...     9.0                2   \n",
       "4  \"I birth control one cycle. After reading revi...     9.0                2   \n",
       "\n",
       "  ratingSentimentLabel  vaderReviewScore  vaderSentiment vaderSentimentLabel  \n",
       "0             positive            0.7623               2            positive  \n",
       "1             positive            0.4767               2            positive  \n",
       "2             positive            0.0000               0             neutral  \n",
       "3             positive            0.8115               2            positive  \n",
       "4             positive            0.9619               2            positive  "
      ]
     },
     "execution_count": 6,
     "metadata": {},
     "output_type": "execute_result"
    }
   ],
   "source": [
    "df.head()"
   ]
  },
  {
   "cell_type": "code",
   "execution_count": 7,
   "metadata": {
    "colab": {
     "base_uri": "https://localhost:8080/",
     "height": 101
    },
    "colab_type": "code",
    "id": "kpAQHNwiOjCq",
    "outputId": "8eba7d2c-7433-4e3e-bd86-3ca50f5623e3"
   },
   "outputs": [
    {
     "data": {
      "text/plain": [
       "vaderSentimentLabel\n",
       "negative    102389\n",
       "neutral      10808\n",
       "positive    101866\n",
       "dtype: int64"
      ]
     },
     "execution_count": 7,
     "metadata": {},
     "output_type": "execute_result"
    }
   ],
   "source": [
    "df.groupby('vaderSentimentLabel').size()"
   ]
  },
  {
   "cell_type": "code",
   "execution_count": 8,
   "metadata": {
    "colab": {},
    "colab_type": "code",
    "id": "zaUsNlDdPCRg"
   },
   "outputs": [],
   "source": [
    "import matplotlib.pyplot as plt"
   ]
  },
  {
   "cell_type": "code",
   "execution_count": 9,
   "metadata": {
    "colab": {
     "base_uri": "https://localhost:8080/",
     "height": 389
    },
    "colab_type": "code",
    "id": "hwjTaOMgPJVj",
    "outputId": "d28481e0-c5a5-42e9-a70b-b156bf797ae0"
   },
   "outputs": [
    {
     "data": {
      "image/png": "[encoded data removed]",
      "text/plain": [
       "<Figure size 432x288 with 1 Axes>"
      ]
     },
     "metadata": {
      "needs_background": "light"
     },
     "output_type": "display_data"
    }
   ],
   "source": [
    "\n",
    "df.groupby('vaderSentimentLabel').count().plot.bar()\n",
    "plt.show()"
   ]
  },
  {
   "cell_type": "code",
   "execution_count": 10,
   "metadata": {
    "colab": {
     "base_uri": "https://localhost:8080/",
     "height": 101
    },
    "colab_type": "code",
    "id": "KZfe7SdjSH9G",
    "outputId": "f979434b-05ca-4308-f917-e27fa53b2b97"
   },
   "outputs": [
    {
     "data": {
      "text/plain": [
       "ratingSentimentLabel\n",
       "negative     46901\n",
       "neutral      25856\n",
       "positive    142306\n",
       "dtype: int64"
      ]
     },
     "execution_count": 10,
     "metadata": {},
     "output_type": "execute_result"
    }
   ],
   "source": [
    "df.groupby('ratingSentimentLabel').size()"
   ]
  },
  {
   "cell_type": "code",
   "execution_count": 11,
   "metadata": {
    "colab": {
     "base_uri": "https://localhost:8080/",
     "height": 389
    },
    "colab_type": "code",
    "id": "JOCMZSlBR5E-",
    "outputId": "b4cf9354-6726-45cd-f2f0-e18df9f2380e"
   },
   "outputs": [
    {
     "data": {
      "image/png": "[encoded data removed]",
      "text/plain": [
       "<Figure size 432x288 with 1 Axes>"
      ]
     },
     "metadata": {
      "needs_background": "light"
     },
     "output_type": "display_data"
    }
   ],
   "source": [
    "df.groupby('ratingSentimentLabel').count().plot.bar()\n",
    "plt.show()"
   ]
  },
  {
   "cell_type": "code",
   "execution_count": 12,
   "metadata": {
    "colab": {
     "base_uri": "https://localhost:8080/",
     "height": 101
    },
    "colab_type": "code",
    "id": "5oVY0OUI6eF3",
    "outputId": "fe2f78e3-a777-4456-ea6a-f2d1018f4239"
   },
   "outputs": [
    {
     "data": {
      "text/plain": [
       "ratingSentiment\n",
       "0     25856\n",
       "1     46901\n",
       "2    142306\n",
       "dtype: int64"
      ]
     },
     "execution_count": 12,
     "metadata": {},
     "output_type": "execute_result"
    }
   ],
   "source": [
    "df.groupby('ratingSentiment').size()"
   ]
  },
  {
   "cell_type": "code",
   "execution_count": null,
   "metadata": {
    "colab": {},
    "colab_type": "code",
    "id": "ni5NhpNXtI3G"
   },
   "outputs": [],
   "source": []
  }
 ],
 "metadata": {
  "colab": {
   "include_colab_link": true,
   "name": "Opinion Mining using the UCI Drug Review Data (Part 2): Sentiment Prediction Using Machine Learning Classification Algorithms(Scikit-Learn Implementatition).ipynb",
   "provenance": [],
   "version": "0.3.2"
  },
  "kernelspec": {
   "display_name": "Python 3",
   "language": "python",
   "name": "python3"
  },
  "language_info": {
   "codemirror_mode": {
    "name": "ipython",
    "version": 3
   },
   "file_extension": ".py",
   "mimetype": "text/x-python",
   "name": "python",
   "nbconvert_exporter": "python",
   "pygments_lexer": "ipython3",
   "version": "3.6.8"
  }
 },
 "nbformat": 4,
 "nbformat_minor": 1
}
