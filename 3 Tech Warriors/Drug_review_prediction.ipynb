{
 "cells": [
  {
   "cell_type": "code",
   "execution_count": 1,
   "metadata": {
    "colab": {},
    "colab_type": "code",
    "id": "m57_C-3oj1Cr"
   },
   "outputs": [],
   "source": [
    "import pandas as pd\n",
    "df1 = pd.read_csv('C:\\\\Users\\\\lenovo\\\\Desktop\\\\smart bridge\\\\drugsComTest_raw.csv')     \n",
    "df2 = pd.read_csv('C:\\\\Users\\\\lenovo\\\\Desktop\\\\smart bridge\\\\drugsComTrain_raw.csv')"
   ]
  },
  {
   "cell_type": "code",
   "execution_count": 2,
   "metadata": {
    "colab": {},
    "colab_type": "code",
    "id": "M0ABTmmGkmm9"
   },
   "outputs": [],
   "source": [
    "df = pd.concat([df1,df2])  "
   ]
  },
  {
   "cell_type": "code",
   "execution_count": 3,
   "metadata": {
    "colab": {
     "base_uri": "https://localhost:8080/",
     "height": 34
    },
    "colab_type": "code",
    "id": "o8qqPUG4lJRX",
    "outputId": "fc446531-bd90-4b20-9b86-2e400a76de44"
   },
   "outputs": [
    {
     "data": {
      "text/plain": [
       "(53768, 7)"
      ]
     },
     "execution_count": 3,
     "metadata": {},
     "output_type": "execute_result"
    }
   ],
   "source": [
    "df1.shape"
   ]
  },
  {
   "cell_type": "code",
   "execution_count": 4,
   "metadata": {
    "colab": {
     "base_uri": "https://localhost:8080/",
     "height": 34
    },
    "colab_type": "code",
    "id": "SJQgttRslNez",
    "outputId": "17e36560-1e15-4c0c-863e-82f3d55eb86e"
   },
   "outputs": [
    {
     "data": {
      "text/plain": [
       "(161297, 7)"
      ]
     },
     "execution_count": 4,
     "metadata": {},
     "output_type": "execute_result"
    }
   ],
   "source": [
    "df2.shape"
   ]
  },
  {
   "cell_type": "code",
   "execution_count": 5,
   "metadata": {
    "colab": {
     "base_uri": "https://localhost:8080/",
     "height": 34
    },
    "colab_type": "code",
    "id": "3C8ksNDAlQ-r",
    "outputId": "5dff17f7-afe7-4ddc-b25c-5258334ee659"
   },
   "outputs": [
    {
     "data": {
      "text/plain": [
       "(215065, 7)"
      ]
     },
     "execution_count": 5,
     "metadata": {},
     "output_type": "execute_result"
    }
   ],
   "source": [
    "df.shape        "
   ]
  },
  {
   "cell_type": "code",
   "execution_count": 6,
   "metadata": {
    "colab": {
     "base_uri": "https://localhost:8080/",
     "height": 195
    },
    "colab_type": "code",
    "id": "hRXti_jilaxR",
    "outputId": "9eeab64d-2aa0-4fc3-fb0e-de9ad16d6da7"
   },
   "outputs": [
    {
     "data": {
      "text/html": [
       "<div>\n",
       "<style scoped>\n",
       "    .dataframe tbody tr th:only-of-type {\n",
       "        vertical-align: middle;\n",
       "    }\n",
       "\n",
       "    .dataframe tbody tr th {\n",
       "        vertical-align: top;\n",
       "    }\n",
       "\n",
       "    .dataframe thead th {\n",
       "        text-align: right;\n",
       "    }\n",
       "</style>\n",
       "<table border=\"1\" class=\"dataframe\">\n",
       "  <thead>\n",
       "    <tr style=\"text-align: right;\">\n",
       "      <th></th>\n",
       "      <th>uniqueID</th>\n",
       "      <th>drugName</th>\n",
       "      <th>condition</th>\n",
       "      <th>review</th>\n",
       "      <th>rating</th>\n",
       "      <th>date</th>\n",
       "      <th>usefulCount</th>\n",
       "    </tr>\n",
       "  </thead>\n",
       "  <tbody>\n",
       "    <tr>\n",
       "      <th>0</th>\n",
       "      <td>121015</td>\n",
       "      <td>Daxid</td>\n",
       "      <td>Depression</td>\n",
       "      <td>works well but takes a lot of time to show eff...</td>\n",
       "      <td>8</td>\n",
       "      <td>########</td>\n",
       "      <td>10</td>\n",
       "    </tr>\n",
       "    <tr>\n",
       "      <th>1</th>\n",
       "      <td>1200</td>\n",
       "      <td>Paracetmol</td>\n",
       "      <td>Fever</td>\n",
       "      <td>\"Worked within a short time and I suggest this...</td>\n",
       "      <td>9</td>\n",
       "      <td>########</td>\n",
       "      <td>1</td>\n",
       "    </tr>\n",
       "    <tr>\n",
       "      <th>2</th>\n",
       "      <td>163740</td>\n",
       "      <td>Mirtazapine</td>\n",
       "      <td>Depression</td>\n",
       "      <td>\"I&amp;#039;ve tried a few antidepressants over th...</td>\n",
       "      <td>10</td>\n",
       "      <td>28-Feb-12</td>\n",
       "      <td>22</td>\n",
       "    </tr>\n",
       "    <tr>\n",
       "      <th>3</th>\n",
       "      <td>206473</td>\n",
       "      <td>Mesalamine</td>\n",
       "      <td>Crohn's Disease, Maintenance</td>\n",
       "      <td>\"My son has Crohn&amp;#039;s disease and has done ...</td>\n",
       "      <td>8</td>\n",
       "      <td>17-May-09</td>\n",
       "      <td>17</td>\n",
       "    </tr>\n",
       "    <tr>\n",
       "      <th>4</th>\n",
       "      <td>159672</td>\n",
       "      <td>Bactrim</td>\n",
       "      <td>Urinary Tract Infection</td>\n",
       "      <td>\"Quick reduction of symptoms\"</td>\n",
       "      <td>9</td>\n",
       "      <td>29-Sep-17</td>\n",
       "      <td>3</td>\n",
       "    </tr>\n",
       "  </tbody>\n",
       "</table>\n",
       "</div>"
      ],
      "text/plain": [
       "   uniqueID     drugName                     condition  \\\n",
       "0    121015        Daxid                    Depression   \n",
       "1      1200   Paracetmol                         Fever   \n",
       "2    163740  Mirtazapine                    Depression   \n",
       "3    206473   Mesalamine  Crohn's Disease, Maintenance   \n",
       "4    159672      Bactrim       Urinary Tract Infection   \n",
       "\n",
       "                                              review  rating       date  \\\n",
       "0  works well but takes a lot of time to show eff...       8   ########   \n",
       "1  \"Worked within a short time and I suggest this...       9   ########   \n",
       "2  \"I&#039;ve tried a few antidepressants over th...      10  28-Feb-12   \n",
       "3  \"My son has Crohn&#039;s disease and has done ...       8  17-May-09   \n",
       "4                      \"Quick reduction of symptoms\"       9  29-Sep-17   \n",
       "\n",
       "   usefulCount  \n",
       "0           10  \n",
       "1            1  \n",
       "2           22  \n",
       "3           17  \n",
       "4            3  "
      ]
     },
     "execution_count": 6,
     "metadata": {},
     "output_type": "execute_result"
    }
   ],
   "source": [
    "df.head()"
   ]
  },
  {
   "cell_type": "code",
   "execution_count": 7,
   "metadata": {
    "colab": {},
    "colab_type": "code",
    "id": "tNIazNZhlfvs"
   },
   "outputs": [],
   "source": [
    "df.columns = ['Id','drugName','condition','review','rating','date','usefulCount']  "
   ]
  },
  {
   "cell_type": "code",
   "execution_count": 8,
   "metadata": {
    "colab": {
     "base_uri": "https://localhost:8080/",
     "height": 195
    },
    "colab_type": "code",
    "id": "ZQqfW1o-lyhP",
    "outputId": "0f648604-d908-45d9-8b12-d25ce6b0be97"
   },
   "outputs": [
    {
     "data": {
      "text/html": [
       "<div>\n",
       "<style scoped>\n",
       "    .dataframe tbody tr th:only-of-type {\n",
       "        vertical-align: middle;\n",
       "    }\n",
       "\n",
       "    .dataframe tbody tr th {\n",
       "        vertical-align: top;\n",
       "    }\n",
       "\n",
       "    .dataframe thead th {\n",
       "        text-align: right;\n",
       "    }\n",
       "</style>\n",
       "<table border=\"1\" class=\"dataframe\">\n",
       "  <thead>\n",
       "    <tr style=\"text-align: right;\">\n",
       "      <th></th>\n",
       "      <th>Id</th>\n",
       "      <th>drugName</th>\n",
       "      <th>condition</th>\n",
       "      <th>review</th>\n",
       "      <th>rating</th>\n",
       "      <th>date</th>\n",
       "      <th>usefulCount</th>\n",
       "    </tr>\n",
       "  </thead>\n",
       "  <tbody>\n",
       "    <tr>\n",
       "      <th>0</th>\n",
       "      <td>121015</td>\n",
       "      <td>Daxid</td>\n",
       "      <td>Depression</td>\n",
       "      <td>works well but takes a lot of time to show eff...</td>\n",
       "      <td>8</td>\n",
       "      <td>########</td>\n",
       "      <td>10</td>\n",
       "    </tr>\n",
       "    <tr>\n",
       "      <th>1</th>\n",
       "      <td>1200</td>\n",
       "      <td>Paracetmol</td>\n",
       "      <td>Fever</td>\n",
       "      <td>\"Worked within a short time and I suggest this...</td>\n",
       "      <td>9</td>\n",
       "      <td>########</td>\n",
       "      <td>1</td>\n",
       "    </tr>\n",
       "    <tr>\n",
       "      <th>2</th>\n",
       "      <td>163740</td>\n",
       "      <td>Mirtazapine</td>\n",
       "      <td>Depression</td>\n",
       "      <td>\"I&amp;#039;ve tried a few antidepressants over th...</td>\n",
       "      <td>10</td>\n",
       "      <td>28-Feb-12</td>\n",
       "      <td>22</td>\n",
       "    </tr>\n",
       "    <tr>\n",
       "      <th>3</th>\n",
       "      <td>206473</td>\n",
       "      <td>Mesalamine</td>\n",
       "      <td>Crohn's Disease, Maintenance</td>\n",
       "      <td>\"My son has Crohn&amp;#039;s disease and has done ...</td>\n",
       "      <td>8</td>\n",
       "      <td>17-May-09</td>\n",
       "      <td>17</td>\n",
       "    </tr>\n",
       "    <tr>\n",
       "      <th>4</th>\n",
       "      <td>159672</td>\n",
       "      <td>Bactrim</td>\n",
       "      <td>Urinary Tract Infection</td>\n",
       "      <td>\"Quick reduction of symptoms\"</td>\n",
       "      <td>9</td>\n",
       "      <td>29-Sep-17</td>\n",
       "      <td>3</td>\n",
       "    </tr>\n",
       "  </tbody>\n",
       "</table>\n",
       "</div>"
      ],
      "text/plain": [
       "       Id     drugName                     condition  \\\n",
       "0  121015        Daxid                    Depression   \n",
       "1    1200   Paracetmol                         Fever   \n",
       "2  163740  Mirtazapine                    Depression   \n",
       "3  206473   Mesalamine  Crohn's Disease, Maintenance   \n",
       "4  159672      Bactrim       Urinary Tract Infection   \n",
       "\n",
       "                                              review  rating       date  \\\n",
       "0  works well but takes a lot of time to show eff...       8   ########   \n",
       "1  \"Worked within a short time and I suggest this...       9   ########   \n",
       "2  \"I&#039;ve tried a few antidepressants over th...      10  28-Feb-12   \n",
       "3  \"My son has Crohn&#039;s disease and has done ...       8  17-May-09   \n",
       "4                      \"Quick reduction of symptoms\"       9  29-Sep-17   \n",
       "\n",
       "   usefulCount  \n",
       "0           10  \n",
       "1            1  \n",
       "2           22  \n",
       "3           17  \n",
       "4            3  "
      ]
     },
     "execution_count": 8,
     "metadata": {},
     "output_type": "execute_result"
    }
   ],
   "source": [
    "df.head()"
   ]
  },
  {
   "cell_type": "code",
   "execution_count": 9,
   "metadata": {
    "colab": {},
    "colab_type": "code",
    "id": "HJyIIGFbl7P8"
   },
   "outputs": [],
   "source": [
    "df2 = df[['Id','review','rating']].copy()"
   ]
  },
  {
   "cell_type": "code",
   "execution_count": 10,
   "metadata": {
    "colab": {
     "base_uri": "https://localhost:8080/",
     "height": 195
    },
    "colab_type": "code",
    "id": "lv7h2-GFnzJT",
    "outputId": "9ea5fdb9-bb94-47e4-eb1d-9478eb318c5c"
   },
   "outputs": [
    {
     "data": {
      "text/html": [
       "<div>\n",
       "<style scoped>\n",
       "    .dataframe tbody tr th:only-of-type {\n",
       "        vertical-align: middle;\n",
       "    }\n",
       "\n",
       "    .dataframe tbody tr th {\n",
       "        vertical-align: top;\n",
       "    }\n",
       "\n",
       "    .dataframe thead th {\n",
       "        text-align: right;\n",
       "    }\n",
       "</style>\n",
       "<table border=\"1\" class=\"dataframe\">\n",
       "  <thead>\n",
       "    <tr style=\"text-align: right;\">\n",
       "      <th></th>\n",
       "      <th>Id</th>\n",
       "      <th>review</th>\n",
       "      <th>rating</th>\n",
       "    </tr>\n",
       "  </thead>\n",
       "  <tbody>\n",
       "    <tr>\n",
       "      <th>0</th>\n",
       "      <td>121015</td>\n",
       "      <td>works well but takes a lot of time to show eff...</td>\n",
       "      <td>8</td>\n",
       "    </tr>\n",
       "    <tr>\n",
       "      <th>1</th>\n",
       "      <td>1200</td>\n",
       "      <td>\"Worked within a short time and I suggest this...</td>\n",
       "      <td>9</td>\n",
       "    </tr>\n",
       "    <tr>\n",
       "      <th>2</th>\n",
       "      <td>163740</td>\n",
       "      <td>\"I&amp;#039;ve tried a few antidepressants over th...</td>\n",
       "      <td>10</td>\n",
       "    </tr>\n",
       "    <tr>\n",
       "      <th>3</th>\n",
       "      <td>206473</td>\n",
       "      <td>\"My son has Crohn&amp;#039;s disease and has done ...</td>\n",
       "      <td>8</td>\n",
       "    </tr>\n",
       "    <tr>\n",
       "      <th>4</th>\n",
       "      <td>159672</td>\n",
       "      <td>\"Quick reduction of symptoms\"</td>\n",
       "      <td>9</td>\n",
       "    </tr>\n",
       "  </tbody>\n",
       "</table>\n",
       "</div>"
      ],
      "text/plain": [
       "       Id                                             review  rating\n",
       "0  121015  works well but takes a lot of time to show eff...       8\n",
       "1    1200  \"Worked within a short time and I suggest this...       9\n",
       "2  163740  \"I&#039;ve tried a few antidepressants over th...      10\n",
       "3  206473  \"My son has Crohn&#039;s disease and has done ...       8\n",
       "4  159672                      \"Quick reduction of symptoms\"       9"
      ]
     },
     "execution_count": 10,
     "metadata": {},
     "output_type": "execute_result"
    }
   ],
   "source": [
    "df2.head()"
   ]
  },
  {
   "cell_type": "code",
   "execution_count": 11,
   "metadata": {
    "colab": {
     "base_uri": "https://localhost:8080/",
     "height": 34
    },
    "colab_type": "code",
    "id": "jVo1aQ7o5BsX",
    "outputId": "13495619-8125-488c-dbd5-18248448ad40"
   },
   "outputs": [
    {
     "data": {
      "text/plain": [
       "False"
      ]
     },
     "execution_count": 11,
     "metadata": {},
     "output_type": "execute_result"
    }
   ],
   "source": [
    "df2.isnull().any().any()"
   ]
  },
  {
   "cell_type": "code",
   "execution_count": 12,
   "metadata": {
    "colab": {
     "base_uri": "https://localhost:8080/",
     "height": 158
    },
    "colab_type": "code",
    "id": "-ypfh_8S5r-U",
    "outputId": "0e2b8008-5a24-4cb9-fcc6-0994d2d0b489"
   },
   "outputs": [
    {
     "name": "stdout",
     "output_type": "stream",
     "text": [
      "<class 'pandas.core.frame.DataFrame'>\n",
      "Int64Index: 215065 entries, 0 to 161296\n",
      "Data columns (total 3 columns):\n",
      "Id        215065 non-null int64\n",
      "review    215065 non-null object\n",
      "rating    215065 non-null int64\n",
      "dtypes: int64(2), object(1)\n",
      "memory usage: 6.6+ MB\n"
     ]
    }
   ],
   "source": [
    "df2.info()"
   ]
  },
  {
   "cell_type": "code",
   "execution_count": 13,
   "metadata": {
    "colab": {
     "base_uri": "https://localhost:8080/",
     "height": 34
    },
    "colab_type": "code",
    "id": "0vpbrO0b6BqK",
    "outputId": "9997b29c-96ba-42ad-c40c-9fca1fb1c6a4"
   },
   "outputs": [
    {
     "data": {
      "text/plain": [
       "array([121015,   1200, 163740, ..., 187382,  47128, 215220], dtype=int64)"
      ]
     },
     "execution_count": 13,
     "metadata": {},
     "output_type": "execute_result"
    }
   ],
   "source": [
    "df2['Id'].unique()"
   ]
  },
  {
   "cell_type": "code",
   "execution_count": 14,
   "metadata": {
    "colab": {
     "base_uri": "https://localhost:8080/",
     "height": 34
    },
    "colab_type": "code",
    "id": "SX-bFPCy6YKQ",
    "outputId": "52bf2f6d-cb6c-45fd-90f5-d65d3d8f8e8c"
   },
   "outputs": [
    {
     "data": {
      "text/plain": [
       "215065"
      ]
     },
     "execution_count": 14,
     "metadata": {},
     "output_type": "execute_result"
    }
   ],
   "source": [
    "df2['Id'].count()"
   ]
  },
  {
   "cell_type": "code",
   "execution_count": 15,
   "metadata": {
    "colab": {
     "base_uri": "https://localhost:8080/",
     "height": 34
    },
    "colab_type": "code",
    "id": "6Aw8HXXL6Jrp",
    "outputId": "5112e331-3f76-4135-9b51-c4bf98712d9a"
   },
   "outputs": [
    {
     "data": {
      "text/plain": [
       "215063"
      ]
     },
     "execution_count": 15,
     "metadata": {},
     "output_type": "execute_result"
    }
   ],
   "source": [
    "df2['Id'].nunique()"
   ]
  },
  {
   "cell_type": "code",
   "execution_count": 16,
   "metadata": {
    "colab": {
     "base_uri": "https://localhost:8080/",
     "height": 70
    },
    "colab_type": "code",
    "id": "qRlcMkTm6JPI",
    "outputId": "cdec81a5-1206-4e8a-9655-bd7ef9c4eb09"
   },
   "outputs": [
    {
     "data": {
      "text/plain": [
       "1    \"Worked within a short time and I suggest this...\n",
       "1    \"My son is halfway through his fourth week of ...\n",
       "Name: review, dtype: object"
      ]
     },
     "execution_count": 16,
     "metadata": {},
     "output_type": "execute_result"
    }
   ],
   "source": [
    "df.review[1]"
   ]
  },
  {
   "cell_type": "code",
   "execution_count": 17,
   "metadata": {
    "colab": {
     "base_uri": "https://localhost:8080/",
     "height": 105
    },
    "colab_type": "code",
    "id": "IHDP0trS6JMV",
    "outputId": "b82408a2-1220-4649-ef33-4ee8ef868236"
   },
   "outputs": [
    {
     "name": "stderr",
     "output_type": "stream",
     "text": [
      "[nltk_data] Downloading package punkt to\n",
      "[nltk_data]     C:\\Users\\lenovo\\AppData\\Roaming\\nltk_data...\n",
      "[nltk_data]   Package punkt is already up-to-date!\n",
      "[nltk_data] Downloading package stopwords to\n",
      "[nltk_data]     C:\\Users\\lenovo\\AppData\\Roaming\\nltk_data...\n",
      "[nltk_data]   Package stopwords is already up-to-date!\n"
     ]
    },
    {
     "data": {
      "text/plain": [
       "True"
      ]
     },
     "execution_count": 17,
     "metadata": {},
     "output_type": "execute_result"
    }
   ],
   "source": [
    "import nltk\n",
    "nltk.download(['punkt','stopwords'])"
   ]
  },
  {
   "cell_type": "code",
   "execution_count": 18,
   "metadata": {
    "colab": {},
    "colab_type": "code",
    "id": "mOjPHBxD6JLB"
   },
   "outputs": [],
   "source": [
    "from nltk.corpus import stopwords\n",
    "stopwords = stopwords.words('english')"
   ]
  },
  {
   "cell_type": "code",
   "execution_count": 19,
   "metadata": {
    "colab": {
     "base_uri": "https://localhost:8080/",
     "height": 195
    },
    "colab_type": "code",
    "id": "PctsizE2GYPE",
    "outputId": "aecbf924-f772-4cf2-f18a-e10c8a8a6180"
   },
   "outputs": [
    {
     "data": {
      "text/html": [
       "<div>\n",
       "<style scoped>\n",
       "    .dataframe tbody tr th:only-of-type {\n",
       "        vertical-align: middle;\n",
       "    }\n",
       "\n",
       "    .dataframe tbody tr th {\n",
       "        vertical-align: top;\n",
       "    }\n",
       "\n",
       "    .dataframe thead th {\n",
       "        text-align: right;\n",
       "    }\n",
       "</style>\n",
       "<table border=\"1\" class=\"dataframe\">\n",
       "  <thead>\n",
       "    <tr style=\"text-align: right;\">\n",
       "      <th></th>\n",
       "      <th>Id</th>\n",
       "      <th>review</th>\n",
       "      <th>rating</th>\n",
       "    </tr>\n",
       "  </thead>\n",
       "  <tbody>\n",
       "    <tr>\n",
       "      <th>0</th>\n",
       "      <td>121015</td>\n",
       "      <td>works well but takes a lot of time to show eff...</td>\n",
       "      <td>8</td>\n",
       "    </tr>\n",
       "    <tr>\n",
       "      <th>1</th>\n",
       "      <td>1200</td>\n",
       "      <td>\"Worked within a short time and I suggest this...</td>\n",
       "      <td>9</td>\n",
       "    </tr>\n",
       "    <tr>\n",
       "      <th>2</th>\n",
       "      <td>163740</td>\n",
       "      <td>\"I&amp;#039;ve tried a few antidepressants over th...</td>\n",
       "      <td>10</td>\n",
       "    </tr>\n",
       "    <tr>\n",
       "      <th>3</th>\n",
       "      <td>206473</td>\n",
       "      <td>\"My son has Crohn&amp;#039;s disease and has done ...</td>\n",
       "      <td>8</td>\n",
       "    </tr>\n",
       "    <tr>\n",
       "      <th>4</th>\n",
       "      <td>159672</td>\n",
       "      <td>\"Quick reduction of symptoms\"</td>\n",
       "      <td>9</td>\n",
       "    </tr>\n",
       "  </tbody>\n",
       "</table>\n",
       "</div>"
      ],
      "text/plain": [
       "       Id                                             review  rating\n",
       "0  121015  works well but takes a lot of time to show eff...       8\n",
       "1    1200  \"Worked within a short time and I suggest this...       9\n",
       "2  163740  \"I&#039;ve tried a few antidepressants over th...      10\n",
       "3  206473  \"My son has Crohn&#039;s disease and has done ...       8\n",
       "4  159672                      \"Quick reduction of symptoms\"       9"
      ]
     },
     "execution_count": 19,
     "metadata": {},
     "output_type": "execute_result"
    }
   ],
   "source": [
    "df2.head()"
   ]
  },
  {
   "cell_type": "code",
   "execution_count": 20,
   "metadata": {
    "colab": {},
    "colab_type": "code",
    "id": "d1jB8mku6JJg"
   },
   "outputs": [],
   "source": [
    "df2['cleanReview'] = df2['review'].apply(lambda x: ' '.join([item for item in x.split() if item not in stopwords]))"
   ]
  },
  {
   "cell_type": "code",
   "execution_count": 21,
   "metadata": {
    "colab": {
     "base_uri": "https://localhost:8080/",
     "height": 195
    },
    "colab_type": "code",
    "id": "pGIbJL6Q9CBy",
    "outputId": "a674d875-59d6-476b-e7cc-ccd0f1010ffc"
   },
   "outputs": [
    {
     "data": {
      "text/html": [
       "<div>\n",
       "<style scoped>\n",
       "    .dataframe tbody tr th:only-of-type {\n",
       "        vertical-align: middle;\n",
       "    }\n",
       "\n",
       "    .dataframe tbody tr th {\n",
       "        vertical-align: top;\n",
       "    }\n",
       "\n",
       "    .dataframe thead th {\n",
       "        text-align: right;\n",
       "    }\n",
       "</style>\n",
       "<table border=\"1\" class=\"dataframe\">\n",
       "  <thead>\n",
       "    <tr style=\"text-align: right;\">\n",
       "      <th></th>\n",
       "      <th>Id</th>\n",
       "      <th>review</th>\n",
       "      <th>rating</th>\n",
       "      <th>cleanReview</th>\n",
       "    </tr>\n",
       "  </thead>\n",
       "  <tbody>\n",
       "    <tr>\n",
       "      <th>0</th>\n",
       "      <td>121015</td>\n",
       "      <td>works well but takes a lot of time to show eff...</td>\n",
       "      <td>8</td>\n",
       "      <td>works well takes lot time show effect.\"</td>\n",
       "    </tr>\n",
       "    <tr>\n",
       "      <th>1</th>\n",
       "      <td>1200</td>\n",
       "      <td>\"Worked within a short time and I suggest this...</td>\n",
       "      <td>9</td>\n",
       "      <td>\"Worked within short time I suggest one common...</td>\n",
       "    </tr>\n",
       "    <tr>\n",
       "      <th>2</th>\n",
       "      <td>163740</td>\n",
       "      <td>\"I&amp;#039;ve tried a few antidepressants over th...</td>\n",
       "      <td>10</td>\n",
       "      <td>\"I&amp;#039;ve tried antidepressants years (citalo...</td>\n",
       "    </tr>\n",
       "    <tr>\n",
       "      <th>3</th>\n",
       "      <td>206473</td>\n",
       "      <td>\"My son has Crohn&amp;#039;s disease and has done ...</td>\n",
       "      <td>8</td>\n",
       "      <td>\"My son Crohn&amp;#039;s disease done well Asacol....</td>\n",
       "    </tr>\n",
       "    <tr>\n",
       "      <th>4</th>\n",
       "      <td>159672</td>\n",
       "      <td>\"Quick reduction of symptoms\"</td>\n",
       "      <td>9</td>\n",
       "      <td>\"Quick reduction symptoms\"</td>\n",
       "    </tr>\n",
       "  </tbody>\n",
       "</table>\n",
       "</div>"
      ],
      "text/plain": [
       "       Id                                             review  rating  \\\n",
       "0  121015  works well but takes a lot of time to show eff...       8   \n",
       "1    1200  \"Worked within a short time and I suggest this...       9   \n",
       "2  163740  \"I&#039;ve tried a few antidepressants over th...      10   \n",
       "3  206473  \"My son has Crohn&#039;s disease and has done ...       8   \n",
       "4  159672                      \"Quick reduction of symptoms\"       9   \n",
       "\n",
       "                                         cleanReview  \n",
       "0            works well takes lot time show effect.\"  \n",
       "1  \"Worked within short time I suggest one common...  \n",
       "2  \"I&#039;ve tried antidepressants years (citalo...  \n",
       "3  \"My son Crohn&#039;s disease done well Asacol....  \n",
       "4                         \"Quick reduction symptoms\"  "
      ]
     },
     "execution_count": 21,
     "metadata": {},
     "output_type": "execute_result"
    }
   ],
   "source": [
    "df2.head()"
   ]
  },
  {
   "cell_type": "code",
   "execution_count": 22,
   "metadata": {
    "colab": {},
    "colab_type": "code",
    "id": "BCsimWTo9VU0"
   },
   "outputs": [],
   "source": [
    "import vaderSentiment\n",
    "from vaderSentiment.vaderSentiment import SentimentIntensityAnalyzer\n",
    "analyzer = SentimentIntensityAnalyzer()  "
   ]
  },
  {
   "cell_type": "code",
   "execution_count": null,
   "metadata": {
    "colab": {},
    "colab_type": "code",
    "id": "2AMeTr8y979V"
   },
   "outputs": [],
   "source": [
    "df2['vaderReviewScore'] = df2['cleanReview'].apply(lambda x: analyzer.polarity_scores(x)['compound'])"
   ]
  },
  {
   "cell_type": "code",
   "execution_count": null,
   "metadata": {
    "colab": {
     "base_uri": "https://localhost:8080/",
     "height": 195
    },
    "colab_type": "code",
    "id": "jzdNAeXf97VQ",
    "outputId": "e37d24ee-fa37-4fb4-f1f9-a1e2126fcdf1"
   },
   "outputs": [],
   "source": [
    "df2.head()"
   ]
  },
  {
   "cell_type": "code",
   "execution_count": null,
   "metadata": {
    "colab": {},
    "colab_type": "code",
    "id": "iqbAvb_9DlK4"
   },
   "outputs": [],
   "source": [
    "positive_num = len(df2[df2['vaderReviewScore'] >=0.05])\n",
    "neutral_num = len(df2[(df2['vaderReviewScore'] >-0.05) & (df2['vaderReviewScore']<0.05)])\n",
    "negative_num = len(df2[df2['vaderReviewScore']<=-0.05])"
   ]
  },
  {
   "cell_type": "code",
   "execution_count": null,
   "metadata": {
    "colab": {
     "base_uri": "https://localhost:8080/",
     "height": 34
    },
    "colab_type": "code",
    "id": "lPU0WtsMCaO0",
    "outputId": "3c99b71e-3908-4e68-d565-b66158085a39"
   },
   "outputs": [],
   "source": [
    "positive_num,neutral_num, negative_num"
   ]
  },
  {
   "cell_type": "code",
   "execution_count": null,
   "metadata": {
    "colab": {},
    "colab_type": "code",
    "id": "wzu-IpbqECEE"
   },
   "outputs": [],
   "source": [
    "df2['vaderSentiment']= df2['vaderReviewScore'].map(lambda x:int(1) if x>=0.05 else int(-1) if x<=-0.05 else int(0) )"
   ]
  },
  {
   "cell_type": "code",
   "execution_count": null,
   "metadata": {
    "colab": {
     "base_uri": "https://localhost:8080/",
     "height": 87
    },
    "colab_type": "code",
    "id": "GVgCz1u1DBTa",
    "outputId": "e0595611-085c-4ec7-a21d-7b4e33a1e654"
   },
   "outputs": [],
   "source": [
    "df2['vaderSentiment'].value_counts()"
   ]
  },
  {
   "cell_type": "code",
   "execution_count": null,
   "metadata": {
    "colab": {
     "base_uri": "https://localhost:8080/",
     "height": 34
    },
    "colab_type": "code",
    "id": "iA_U41nMzrqT",
    "outputId": "ec795c48-af92-4376-e1b6-9ed7350ecdeb"
   },
   "outputs": [],
   "source": [
    "Total_vaderSentiment = positive_num + neutral_num + negative_num\n",
    "Total_vaderSentiment"
   ]
  },
  {
   "cell_type": "code",
   "execution_count": null,
   "metadata": {
    "colab": {},
    "colab_type": "code",
    "id": "7LPrb4acETjg"
   },
   "outputs": [],
   "source": [
    "df2.loc[df2['vaderReviewScore'] >=0.05,\"vaderSentimentLabel\"] =\"positive\"\n",
    "df2.loc[(df2['vaderReviewScore'] >-0.05) & (df2['vaderReviewScore']<0.05),\"vaderSentimentLabel\"]= \"neutral\"\n",
    "df2.loc[df2['vaderReviewScore']<=-0.05,\"vaderSentimentLabel\"] = \"negative\""
   ]
  },
  {
   "cell_type": "code",
   "execution_count": null,
   "metadata": {
    "colab": {
     "base_uri": "https://localhost:8080/",
     "height": 34
    },
    "colab_type": "code",
    "id": "sE4paKdJKHGN",
    "outputId": "1bf39517-dcb2-4152-e2b6-926f3f279f22"
   },
   "outputs": [],
   "source": [
    "df2.shape"
   ]
  },
  {
   "cell_type": "code",
   "execution_count": null,
   "metadata": {
    "colab": {
     "base_uri": "https://localhost:8080/",
     "height": 195
    },
    "colab_type": "code",
    "id": "Xah2qVCtJ-xt",
    "outputId": "bf4854d4-8e1b-45ea-bda9-6a2cde939dbc"
   },
   "outputs": [],
   "source": [
    "df2.head()"
   ]
  },
  {
   "cell_type": "code",
   "execution_count": null,
   "metadata": {
    "colab": {},
    "colab_type": "code",
    "id": "M1zxqtK8LOYV"
   },
   "outputs": [],
   "source": [
    "positive_rating = len(df2[df2['rating'] >=7.0])\n",
    "neutral_rating = len(df2[(df2['rating'] >=4) & (df2['rating']<7)])\n",
    "negative_rating = len(df2[df2['rating']<4])"
   ]
  },
  {
   "cell_type": "code",
   "execution_count": null,
   "metadata": {
    "colab": {
     "base_uri": "https://localhost:8080/",
     "height": 34
    },
    "colab_type": "code",
    "id": "AbvSCHc0Nq_U",
    "outputId": "fe274e56-ac14-468f-ee22-3768a52f26e4"
   },
   "outputs": [],
   "source": [
    "positive_rating,neutral_rating,negative_rating"
   ]
  },
  {
   "cell_type": "code",
   "execution_count": null,
   "metadata": {
    "colab": {
     "base_uri": "https://localhost:8080/",
     "height": 34
    },
    "colab_type": "code",
    "id": "XcEYgG1HOAdQ",
    "outputId": "ae778f79-e72b-4f80-cc3f-511f74a6ced8"
   },
   "outputs": [],
   "source": [
    "Total_rating = positive_rating+neutral_rating+negative_rating\n",
    "Total_rating"
   ]
  },
  {
   "cell_type": "code",
   "execution_count": null,
   "metadata": {
    "colab": {},
    "colab_type": "code",
    "id": "y57v1FgaOyuN"
   },
   "outputs": [],
   "source": [
    "df2['ratingSentiment']= df2['rating'].map(lambda x:int(1) if x>=7 else int(-1) if x<=3 else int(0) )"
   ]
  },
  {
   "cell_type": "code",
   "execution_count": null,
   "metadata": {
    "colab": {
     "base_uri": "https://localhost:8080/",
     "height": 87
    },
    "colab_type": "code",
    "id": "Db4frxHQtKYk",
    "outputId": "b8872d5e-564c-4c17-c67c-7dcf4d4d7f9f"
   },
   "outputs": [],
   "source": [
    "df2['ratingSentiment'].value_counts()"
   ]
  },
  {
   "cell_type": "code",
   "execution_count": null,
   "metadata": {
    "colab": {
     "base_uri": "https://localhost:8080/",
     "height": 195
    },
    "colab_type": "code",
    "id": "Za4Z3TcP0aRU",
    "outputId": "14c3cbd0-314d-4788-eafd-355385e92b8a"
   },
   "outputs": [],
   "source": [
    "df2.head()"
   ]
  },
  {
   "cell_type": "code",
   "execution_count": null,
   "metadata": {
    "colab": {},
    "colab_type": "code",
    "id": "bHmsLaY2PWgr"
   },
   "outputs": [],
   "source": [
    "df2.loc[df2['rating'] >=7.0,\"ratingSentimentLabel\"] =\"positive\"\n",
    "df2.loc[(df2['rating'] >=4.0) & (df2['rating']<7.0),\"ratingSentimentLabel\"]= \"neutral\"\n",
    "df2.loc[df2['rating']<=3.0,\"ratingSentimentLabel\"] = \"negative\""
   ]
  },
  {
   "cell_type": "code",
   "execution_count": null,
   "metadata": {
    "colab": {
     "base_uri": "https://localhost:8080/",
     "height": 262
    },
    "colab_type": "code",
    "id": "pnS_lrEpUM1a",
    "outputId": "b66702d0-fa66-4cb5-d1de-fef3e83ca162"
   },
   "outputs": [],
   "source": [
    "df2.head()"
   ]
  },
  {
   "cell_type": "code",
   "execution_count": null,
   "metadata": {
    "colab": {},
    "colab_type": "code",
    "id": "QpEFV6GW1J2y"
   },
   "outputs": [],
   "source": [
    "df2 = df2[['Id','review','cleanReview','rating','ratingSentiment','ratingSentimentLabel','vaderReviewScore','vaderSentiment','vaderSentimentLabel']]"
   ]
  },
  {
   "cell_type": "code",
   "execution_count": null,
   "metadata": {
    "colab": {
     "base_uri": "https://localhost:8080/",
     "height": 262
    },
    "colab_type": "code",
    "id": "gVaD9UXI377U",
    "outputId": "640a4610-0087-4ccb-8d5c-6857875497dd"
   },
   "outputs": [],
   "source": [
    "df2.head()"
   ]
  },
  {
   "cell_type": "code",
   "execution_count": null,
   "metadata": {
    "colab": {},
    "colab_type": "code",
    "id": "Ara3cGGh4BMR"
   },
   "outputs": [],
   "source": [
    "df2.to_csv('preprocessed.csv')    "
   ]
  },
  {
   "cell_type": "code",
   "execution_count": null,
   "metadata": {
    "colab": {},
    "colab_type": "code",
    "id": "bdenGjMQ4d5p"
   },
   "outputs": [],
   "source": [
    "df2.head(50)"
   ]
  },
  {
   "cell_type": "code",
   "execution_count": null,
   "metadata": {
    "colab": {
     "base_uri": "https://localhost:8080/",
     "height": 34
    },
    "colab_type": "code",
    "id": "r4hScuxI5E1r",
    "outputId": "3f525e66-012d-43e7-dcdb-310833fd1507"
   },
   "outputs": [],
   "source": [
    "import os\n",
    "os.stat('preprocessed.csv').st_size         "
   ]
  },
  {
   "cell_type": "code",
   "execution_count": null,
   "metadata": {
    "colab": {
     "base_uri": "https://localhost:8080/",
     "height": 263
    },
    "colab_type": "code",
    "id": "8FYrARU76sPy",
    "outputId": "14a88fa8-d6b0-424e-cac7-5be7da858162"
   },
   "outputs": [],
   "source": [
    "df2.info()"
   ]
  },
  {
   "cell_type": "code",
   "execution_count": null,
   "metadata": {
    "colab": {},
    "colab_type": "code",
    "id": "5Cn0ix2o7OXl"
   },
   "outputs": [],
   "source": [
    "df2.to_csv('preprocessed.csv.gz',compression='gzip')"
   ]
  },
  {
   "cell_type": "code",
   "execution_count": null,
   "metadata": {
    "colab": {
     "base_uri": "https://localhost:8080/",
     "height": 34
    },
    "colab_type": "code",
    "id": "DhmstsvB7bjS",
    "outputId": "1b938b1a-a733-4036-b4b6-fd83fe2b0031"
   },
   "outputs": [],
   "source": [
    "os.stat('preprocessed.csv.gz').st_size "
   ]
  },
  {
   "cell_type": "code",
   "execution_count": null,
   "metadata": {},
   "outputs": [],
   "source": []
  }
 ],
 "metadata": {
  "accelerator": "GPU",
  "colab": {
   "include_colab_link": true,
   "name": "Data Loading and preprocessing(drug Review Dataset).ipynb",
   "provenance": [],
   "version": "0.3.2"
  },
  "kernelspec": {
   "display_name": "Python 3",
   "language": "python",
   "name": "python3"
  },
  "language_info": {
   "codemirror_mode": {
    "name": "ipython",
    "version": 3
   },
   "file_extension": ".py",
   "mimetype": "text/x-python",
   "name": "python",
   "nbconvert_exporter": "python",
   "pygments_lexer": "ipython3",
   "version": "3.6.8"
  }
 },
 "nbformat": 4,
 "nbformat_minor": 1
}
